{
 "metadata": {
  "language_info": {
   "codemirror_mode": {
    "name": "ipython",
    "version": 3
   },
   "file_extension": ".py",
   "mimetype": "text/x-python",
   "name": "python",
   "nbconvert_exporter": "python",
   "pygments_lexer": "ipython3",
   "version": "3.7.4-final"
  },
  "orig_nbformat": 2,
  "kernelspec": {
   "name": "python3",
   "display_name": "Python 3",
   "language": "python"
  }
 },
 "nbformat": 4,
 "nbformat_minor": 2,
 "cells": [
  {
   "cell_type": "code",
   "execution_count": 1,
   "metadata": {},
   "outputs": [],
   "source": [
    "import numpy as np \n",
    "import matplotlib.pyplot as plt \n"
   ]
  },
  {
   "cell_type": "code",
   "execution_count": 7,
   "metadata": {},
   "outputs": [],
   "source": [
    "states = np.arange(0,100+1,1)\n",
    "rewards = np.zeros_like(states)\n",
    "rewards[-1] = 1."
   ]
  },
  {
   "source": [
    "In state $s$, we can stake the amounts $$ 0, 1, 2,\\ldots , \\min\\left\\{ s, 100-s \\right\\}$$\n",
    "\n",
    "The dynamics are $$ p\\left(s'\\middle| s, a\\right)  = \\left\\{\\begin{array}{rl} \\theta, & s' = s + a \\\\ 1-\\theta, & s' = s-a\n",
    "\\end{array} \\right. $$"
   ],
   "cell_type": "markdown",
   "metadata": {}
  },
  {
   "cell_type": "code",
   "execution_count": 10,
   "metadata": {},
   "outputs": [],
   "source": [
    "for state in states:\n",
    "    actions = np.zeros(100)\n",
    "    "
   ]
  },
  {
   "cell_type": "code",
   "execution_count": null,
   "metadata": {},
   "outputs": [],
   "source": []
  }
 ]
}