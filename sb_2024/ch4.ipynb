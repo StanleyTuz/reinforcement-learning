{
 "cells": [
  {
   "cell_type": "markdown",
   "metadata": {},
   "source": [
    "# Dynamic Programming\n",
    "\n",
    "Algorithms that can compute optimal policies (solve RL problems) given a perfect model of the environment as an MDP. Computationally, we require a finite MDP and a small enough problem that we can actually solve it in a reasonable time; this is often called the \"tabular\" case."
   ]
  },
  {
   "cell_type": "markdown",
   "metadata": {},
   "source": [
    "The Bellman optimality equations are\n",
    "$$ v_*\\left(s\\right) = \\max_a \\sum_{s',r} p\\left(s',r\\middle|s,a\\right) \\left[r + \\gamma v_*\\left(s'\\right)\\right] $$\n",
    "and\n",
    "$$ q_*\\left(s,a\\right) = \\sum_{s',r} p\\left(s',r\\middle|s,a\\right) \\left[r + \\gamma \\max_{a'} q_*\\left(s', a'\\right)\\right] $$"
   ]
  },
  {
   "cell_type": "markdown",
   "metadata": {},
   "source": [
    "RL DP algorithms are derived by converting these into update formulas that can be used to iteratively improve an estimate of the value functions."
   ]
  },
  {
   "cell_type": "markdown",
   "metadata": {},
   "source": [
    "# Policy Evaluation / Prediction\n",
    "\n",
    "Given a policy $\\pi$, we would like to compute $v_{\\pi}\\left(s\\right) \\forall s \\in \\mathcal{S}$. We have seen earlier that this is a linear system of equations, but it is often tedious to set up and solve the system. The **iterative policy evaluation algorithm** estimates it via an update formula:\n",
    "\n",
    "$$ \\begin{align*} v_{k+1}\\left(s\\right) & = \\mathbb{E}_{\\pi}\\left[R_{t+1} + \\gamma v_k \\left(S_{t+1}\\right) \\middle| S_t = s \\right] \\\\ & = \\sum_a \\pi\\left(a\\middle|s\\right) \\sum_{s',r} p\\left(s',r\\middle| s,a\\right) \\left[r + \\gamma v_k\\left(s'\\right) \\right]\\end{align*} $$"
   ]
  },
  {
   "cell_type": "markdown",
   "metadata": {},
   "source": [
    "This looks nearly identical to the Bellman equation for $v_{\\pi}$, but the crucial difference is that $v_{k+1}$ on the left-hand side and $v_k$ on the right are not the same function; the former is an incremental update of the latter."
   ]
  },
  {
   "cell_type": "markdown",
   "metadata": {},
   "source": [
    "First we will set up the environment/dynamics of the chapter 4 gridworld."
   ]
  },
  {
   "cell_type": "code",
   "execution_count": 1,
   "metadata": {},
   "outputs": [],
   "source": [
    "# 0: up, 1: right, 2: down, 3: left\n",
    "def dynamics(s, a):\n",
    "    \"\"\"Dynamics for the episodic gridworld environment.\n",
    "    Given (s,a), return a list of (s', r, p), possible outcomes.\n",
    "    \"\"\"\n",
    "    if s == 0 or s == 15: # terminal states\n",
    "        return [(0, 0, 1.0)]\n",
    "    # else we are not in the terminal states\n",
    "\n",
    "    if a == 0: # moving up\n",
    "        if s < 4: # hit top boundary, stay in place\n",
    "            return [\n",
    "                (s, -1, 1.0),\n",
    "            ]\n",
    "        else: # we are not at the top row\n",
    "            return [\n",
    "                (s - 4, -1, 1.0)\n",
    "            ]\n",
    "    elif a == 1: # moving right\n",
    "        if (s+1) % 4 == 0: # hit right boundary\n",
    "            return [\n",
    "                (s, -1, 1.0)\n",
    "            ]\n",
    "        else: # we are not in the right row\n",
    "            return [\n",
    "                (s+1, -1, 1.0),\n",
    "                ]\n",
    "        \n",
    "    elif a == 2: # moving down\n",
    "        if s >= 12: # hit bottom boundary\n",
    "            return [\n",
    "                (s, -1, 1.0)\n",
    "                ]\n",
    "        else: # we are not in the bottom row\n",
    "            return [\n",
    "                (s + 4, -1, 1.0)\n",
    "                ]\n",
    "        \n",
    "    elif a == 3: # moving left\n",
    "        if s % 4 == 0: # hit left boundary\n",
    "            return [\n",
    "                (s, -1, 1.0)\n",
    "            ]\n",
    "        else: # not in leftmost row\n",
    "            return [\n",
    "                (s - 1, -1, 1.0)\n",
    "            ]"
   ]
  },
  {
   "cell_type": "code",
   "execution_count": 85,
   "metadata": {},
   "outputs": [],
   "source": [
    "from typing import Callable\n",
    "\n",
    "def plot_gridworld_policy(policy: Callable, ax = None):\n",
    "    if ax is None:\n",
    "        _, ax = plt.subplots()\n",
    "\n",
    "    ax.set(xlim=[-0.5,3.5], ylim=[-0.5,3.5])\n",
    "    ax.set_xticks(np.arange(-0.5, 3.5, 1))\n",
    "    ax.set_yticks(np.arange(-0.5, 3.5, 1))\n",
    "    ax.xaxis.set_ticklabels([])\n",
    "    ax.yaxis.set_ticklabels([])\n",
    "    ax.grid()\n",
    "\n",
    "    def state_to_txt_coord(s: int):\n",
    "        y_coord = 4 - ( s // 4) - 1\n",
    "        x_coord = s % 4\n",
    "        return x_coord, y_coord\n",
    "\n",
    "    arrows = {0: [0,1], 1: [1, 0], 2: [0, -1], 3: [-1, 0]}\n",
    "    scale = 0.40\n",
    "    eps = 1e-5\n",
    "    for s in range(16):\n",
    "        x_t, y_t = state_to_txt_coord(s)\n",
    "        for a, p_a_s in policy(s):\n",
    "            arrow = np.array(arrows[a])\n",
    "            arrow = scale * p_a_s * arrow\n",
    "            if any(abs(arrow) > eps):\n",
    "                ax.arrow(\n",
    "                    x_t,\n",
    "                    y_t,\n",
    "                    arrow[0],\n",
    "                    arrow[1],\n",
    "                    head_width=0.05,\n",
    "                    head_length=0.1,\n",
    "                    fc='k',\n",
    "                    ec='k',\n",
    "                    )\n",
    "    ax.set_aspect('equal')\n",
    "    # plt.show()\n",
    "\n",
    "def plot_v(v: np.ndarray, ax = None):\n",
    "    if ax is None:\n",
    "        _, ax = plt.subplots()\n",
    "\n",
    "    ax.set(xlim=[-0.5,3.5], ylim=[-0.5,3.5])\n",
    "    ax.set_xticks(np.arange(-0.5, 3.5, 1))\n",
    "    ax.set_yticks(np.arange(-0.5, 3.5, 1))\n",
    "    ax.xaxis.set_ticklabels([])\n",
    "    ax.yaxis.set_ticklabels([])\n",
    "    ax.grid()\n",
    "\n",
    "    \n",
    "    def state_to_txt_coord(s: int):\n",
    "        y_coord = 4 - ( s // 4) - 1\n",
    "        x_coord = s % 4\n",
    "        return x_coord, y_coord\n",
    "\n",
    "    for s in range(len(v)):\n",
    "        x_t, y_t = state_to_txt_coord(s)\n",
    "        ax.text(x=x_t, y=y_t, s=f\"{v[s]:.1f}\")\n",
    "    ax.set_aspect('equal')\n",
    "    # plt.show()"
   ]
  },
  {
   "cell_type": "code",
   "execution_count": 86,
   "metadata": {},
   "outputs": [],
   "source": [
    "def eqr_policy(s):\n",
    "    \"\"\"Equiprobable random policy.\n",
    "    Returns a list of (action_index, probability) tuples.\n",
    "    Note that s is unused since this is random policy\n",
    "    \"\"\"\n",
    "    return [\n",
    "        (0, 0.25),\n",
    "        (1, 0.25),\n",
    "        (2, 0.25),\n",
    "        (3, 0.25),\n",
    "    ]"
   ]
  },
  {
   "cell_type": "code",
   "execution_count": 87,
   "metadata": {},
   "outputs": [],
   "source": [
    "import numpy as np\n",
    "import matplotlib.pyplot as plt"
   ]
  },
  {
   "cell_type": "code",
   "execution_count": 88,
   "metadata": {},
   "outputs": [
    {
     "name": "stdout",
     "output_type": "stream",
     "text": [
      "converged on iteration 131\n"
     ]
    }
   ],
   "source": [
    "v_km1 = np.zeros(16)\n",
    "v_k = np.zeros(16)\n",
    "\n",
    "tol = 0.001\n",
    "max_iter = 200\n",
    "iter_ = 1\n",
    "\n",
    "while iter_ <= max_iter:\n",
    "    del_ = 0\n",
    "    for s in range(16):\n",
    "        for a, p_a_s in eqr_policy(s):\n",
    "            for sp, r, p_spr_sa in dynamics(s, a):\n",
    "                v_k[s] += p_a_s * p_spr_sa * (r + v_km1[sp])\n",
    "        del_ = np.max([del_, np.abs(v_k[s] - v_km1[s])])\n",
    "    v_km1 = v_k.copy()\n",
    "    v_k = np.zeros(16)\n",
    "\n",
    "    if del_ < tol:\n",
    "        print(f\"converged on iteration {iter_}\")\n",
    "        break\n",
    "\n",
    "    iter_ += 1"
   ]
  },
  {
   "cell_type": "code",
   "execution_count": 89,
   "metadata": {},
   "outputs": [
    {
     "data": {
      "image/png": "[encoded data removed]",
      "text/plain": [
       "<Figure size 640x480 with 1 Axes>"
      ]
     },
     "metadata": {},
     "output_type": "display_data"
    }
   ],
   "source": [
    "plot_v(v_km1)"
   ]
  },
  {
   "cell_type": "code",
   "execution_count": 90,
   "metadata": {},
   "outputs": [],
   "source": [
    "def calc_q_from_v(v):\n",
    "    \"\"\"Given a state-value function v and the problem dynamics,\n",
    "    compute the corresponding action-value function.\n",
    "    \"\"\"\n",
    "    gamma = 1\n",
    "    v_f = v.flatten()\n",
    "    q = np.zeros((16, 4)) # states, actions\n",
    "    for s in range(16):\n",
    "        for a in range(4):\n",
    "            for sp, r, p_sp_r in dynamics(s, a):\n",
    "                q[s, a] += (r + gamma * v_f[sp]) * p_sp_r\n",
    "    return q\n",
    "\n",
    "\n",
    "def calc_greedy_policy_from_v(v):\n",
    "    \"\"\"Given a state-value function, calculate a greedy policy.\"\"\"\n",
    "    # get action-value function\n",
    "    q = calc_q_from_v(v)\n",
    "\n",
    "    def greedy_policy(s):\n",
    "        # Greedy policy assigns nonzero probability only to actions that\n",
    "        # give maximal q(s,a)\n",
    "        exp_return_a = [q[s,a] for a in range(4)]\n",
    "\n",
    "        # then take the max\n",
    "        opt_actions = np.where(exp_return_a == np.max(exp_return_a))[0]\n",
    "        p_ = 1/len(opt_actions)\n",
    "        return [(oa, p_) for oa in opt_actions]\n",
    "    return greedy_policy"
   ]
  },
  {
   "cell_type": "code",
   "execution_count": 91,
   "metadata": {},
   "outputs": [
    {
     "data": {
      "text/plain": [
       "(16, 4)"
      ]
     },
     "execution_count": 91,
     "metadata": {},
     "output_type": "execute_result"
    }
   ],
   "source": [
    "q.shape"
   ]
  },
  {
   "cell_type": "code",
   "execution_count": 92,
   "metadata": {},
   "outputs": [],
   "source": [
    "policy_greedy = calc_greedy_policy_from_v(v_km1)"
   ]
  },
  {
   "cell_type": "code",
   "execution_count": 93,
   "metadata": {},
   "outputs": [
    {
     "data": {
      "image/png": "[encoded data removed]",
      "text/plain": [
       "<Figure size 640x480 with 1 Axes>"
      ]
     },
     "metadata": {},
     "output_type": "display_data"
    }
   ],
   "source": [
    "plot_gridworld_policy(policy_greedy)"
   ]
  },
  {
   "cell_type": "markdown",
   "metadata": {},
   "source": [
    "# Car example"
   ]
  },
  {
   "cell_type": "markdown",
   "metadata": {},
   "source": [
    "State is $\\left(s_1, s_2\\right) \\in \\left[0, 20\\right]^2$\n",
    "\n",
    "Actions are $a \\in \\left[-5, 5\\right]$\n",
    "\n",
    "A policy is $ \\pi\\left(a\\middle|s\\right) $\n",
    "\n",
    "The dynamics are given by"
   ]
  },
  {
   "cell_type": "markdown",
   "metadata": {},
   "source": [
    "$$ \\begin{align*} p_1\\left(n_{req}\\right) = \\frac{3^n}{n!}\\exp^{-3} \\\\ p_2\\left(n_{req}\\right) = \\frac{4^n}{n!}\\exp^{-4} \\\\ p_1\\left(n_{ret}\\right) = \\frac{3^n}{n!}\\exp^{-3} \\\\ p_2\\left(n_{ret}\\right) = \\frac{2^n}{n!}\\exp^{-2}   \\end{align*} $$"
   ]
  },
  {
   "cell_type": "code",
   "execution_count": 111,
   "metadata": {},
   "outputs": [],
   "source": [
    "from math import factorial\n",
    "def _poisson_pdf(lambda_, n):\n",
    "    return (lambda_ ** n) * np.exp(-lambda_) / factorial(n)\n",
    "\n",
    "def p1_req(n):\n",
    "    \"\"\"Probability of n requests from location 1.\"\"\"\n",
    "    return _poisson_pdf(3, n)\n",
    "def p1_ret(n):\n",
    "    \"\"\"Probability of n returns to location 1.\"\"\"\n",
    "    return _poisson_pdf(3, n)\n",
    "def p2_req(n):\n",
    "    \"\"\"Probability of n requests from location 2.\"\"\"\n",
    "    return _poisson_pdf(4, n)\n",
    "def p2_ret(n):\n",
    "    \"\"\"Probability of n returns to location 2.\"\"\"\n",
    "    return _poisson_pdf(2, n)\n",
    "\n",
    "\n",
    "actions = zip(range(11), range(-5,6,1))\n",
    "def dynamics(s, a):\n",
    "    \"\"\"Return [(sp, r, p_spr_sa)]\"\"\"\n",
    "\n",
    "    # loop over every scenario\n",
    "    for n_req_1 in range(21):\n",
    "        for n_req_2 in range(21):\n",
    "            for n_ret_1 in range(21):\n",
    "                for n_ret_2 in range(21):\n",
    "\n",
    "                    # calculate the return (deterministic now)\n",
    "                    r = 10 * np.max([0, s[0] - n_req_1]) + 10 * np.max([0, s[1] - n_req_2]) - 2 * actions[a]\n",
    "\n",
    "                    # calculate the new state\n",
    "                    s1 = (s[0] - np.max([0, s[0] - n_req_1])) - actions[a] + n_ret_1\n"
   ]
  },
  {
   "cell_type": "code",
   "execution_count": 104,
   "metadata": {},
   "outputs": [
    {
     "data": {
      "image/png": "[encoded data removed]",
      "text/plain": [
       "<Figure size 640x480 with 2 Axes>"
      ]
     },
     "metadata": {},
     "output_type": "display_data"
    }
   ],
   "source": [
    "Z = np.ones((20, 20))\n",
    "Z[:10, :10] = 10\n",
    "Z[:5, :] = 5\n",
    "\n",
    "fig, ax = plt.subplots()\n",
    "img = ax.imshow(Z)\n",
    "plt.colorbar(img)\n",
    "plt.show()"
   ]
  },
  {
   "cell_type": "code",
   "execution_count": null,
   "metadata": {},
   "outputs": [],
   "source": []
  }
 ],
 "metadata": {
  "kernelspec": {
   "display_name": ".venv",
   "language": "python",
   "name": "python3"
  },
  "language_info": {
   "codemirror_mode": {
    "name": "ipython",
    "version": 3
   },
   "file_extension": ".py",
   "mimetype": "text/x-python",
   "name": "python",
   "nbconvert_exporter": "python",
   "pygments_lexer": "ipython3",
   "version": "3.10.14"
  }
 },
 "nbformat": 4,
 "nbformat_minor": 2
}
