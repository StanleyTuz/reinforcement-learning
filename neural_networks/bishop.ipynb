{
 "cells": [
  {
   "cell_type": "code",
   "execution_count": 1,
   "metadata": {},
   "outputs": [],
   "source": [
    "import numpy as np\n",
    "import matplotlib.pyplot as plt"
   ]
  },
  {
   "cell_type": "code",
   "execution_count": 64,
   "metadata": {},
   "outputs": [],
   "source": [
    "def act(X, W, b):\n",
    "    return b + X @ W.T\n",
    "\n",
    "def h(a):\n",
    "    \"\"\"Logistic sigmoid\"\"\"\n",
    "    return 1/(1 + np.exp(-a))\n",
    "\n",
    "def softmax(a):\n",
    "    num = np.exp(-a)\n",
    "    return num / num.sum()\n",
    "\n",
    "input_dim = 1\n",
    "hidden_dim = 10\n",
    "output_dim = 2\n",
    "\n",
    "W1 = np.random.random((hidden_dim, 1))\n",
    "b1 = np.random.random(hidden_dim)\n",
    "W2 = np.random.random((output_dim, hidden_dim))\n",
    "b2 = np.random.random(output_dim)\n",
    "\n",
    "W = [W1, W2]\n",
    "b = [b1, b2]"
   ]
  },
  {
   "cell_type": "code",
   "execution_count": 65,
   "metadata": {},
   "outputs": [],
   "source": [
    "def forward_pass(x, W, b):\n",
    "    activation_1 = act(x, W[0], b[0])\n",
    "    z_1 = h(activation_1)\n",
    "\n",
    "    activation_2 = act(z_1, W[1], b[1])\n",
    "    z_2 = softmax(activation_2)\n",
    "    return z_2"
   ]
  },
  {
   "cell_type": "code",
   "execution_count": 66,
   "metadata": {},
   "outputs": [],
   "source": [
    "z = np.random.choice([0, 1], p=[0.3, 0.7], size=40)\n",
    "mu = np.array([1.0, 6.0])\n",
    "sigma = np.array([1.0, 1.0])\n",
    "\n",
    "X = mu[z] + sigma[z] * np.random.randn(len(z))\n",
    "X = X.reshape((len(z), 1))"
   ]
  },
  {
   "cell_type": "code",
   "execution_count": 67,
   "metadata": {},
   "outputs": [],
   "source": [
    "def sq_loss(X, t, W, b):\n",
    "\n",
    "    p_pred = [forward_pass(x, W, b) for x in X]\n",
    "    t_pred = np.argmax(p_pred, axis=1)\n",
    "\n",
    "    return np.sum((t - t_pred)**2)/2"
   ]
  },
  {
   "cell_type": "code",
   "execution_count": 68,
   "metadata": {},
   "outputs": [
    {
     "data": {
      "text/plain": [
       "16.5"
      ]
     },
     "execution_count": 68,
     "metadata": {},
     "output_type": "execute_result"
    }
   ],
   "source": [
    "sq_loss(X, z, [W1, W2], [b1, b2])"
   ]
  },
  {
   "cell_type": "code",
   "execution_count": null,
   "metadata": {},
   "outputs": [],
   "source": []
  }
 ],
 "metadata": {
  "kernelspec": {
   "display_name": "Python 3.8.12 ('.venv': venv)",
   "language": "python",
   "name": "python3"
  },
  "language_info": {
   "codemirror_mode": {
    "name": "ipython",
    "version": 3
   },
   "file_extension": ".py",
   "mimetype": "text/x-python",
   "name": "python",
   "nbconvert_exporter": "python",
   "pygments_lexer": "ipython3",
   "version": "3.8.12"
  },
  "orig_nbformat": 4,
  "vscode": {
   "interpreter": {
    "hash": "b5ac7c6156dd1d106c0eb61ce42a0bdd7cc19128b6e13749ed889b170c5c7a7c"
   }
  }
 },
 "nbformat": 4,
 "nbformat_minor": 2
}
