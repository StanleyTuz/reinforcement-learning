{
 "cells": [
  {
   "cell_type": "code",
   "execution_count": 43,
   "metadata": {},
   "outputs": [],
   "source": [
    "import numpy as np\n",
    "import matplotlib.pyplot as plt"
   ]
  },
  {
   "cell_type": "code",
   "execution_count": 91,
   "metadata": {},
   "outputs": [],
   "source": [
    "def decision(t_n):\n",
    "    \"\"\"Map activation values to a class index.\"\"\"\n",
    "    return (t_n >= 0).astype(int)\n",
    "\n",
    "def generate_data(w_gen, n_data: int = 30, eps=1.0):\n",
    "    # generate labels\n",
    "    t_n = np.random.choice([-1, 1], p=[0.5, 0.5], size=n_data)\n",
    "    c_n = decision(t_n) # binary class index\n",
    "\n",
    "    # generate data\n",
    "    x = np.random.uniform(-1, 1, size=n_data)\n",
    "    y = x * w_gen[c_n, 0] + w_gen[c_n, 1] + eps * np.random.randn(n_data)\n",
    "\n",
    "    X = np.stack([x, y], axis=1)\n",
    "    return X, t_n, c_n\n",
    "\n",
    "def plot_data(X, c_n, ax):\n",
    "    colors = [ 'red' if c==0 else 'blue' for c in c_n ]\n",
    "    ax.scatter(X[:,0], X[:,1], c=colors)\n",
    "\n",
    "def plot_decision_boundary(w, ax, arrow_scale: float = 1):\n",
    "    if len(w) != 3:\n",
    "        raise ValueError('w must be a 3-vector')\n",
    "\n",
    "    def x_to_y(x):\n",
    "        return -(w[0] + w[1] * x) / w[2]\n",
    "\n",
    "    # get points on hyperplane\n",
    "    xx = np.linspace(-20, 20)\n",
    "    yy = x_to_y(xx)\n",
    "\n",
    "    # get arrow base coords on hyperplane\n",
    "    x_arr = 0\n",
    "    y_arr = x_to_y(x_arr)\n",
    "\n",
    "    # scale the normal vector\n",
    "    w_scaled = arrow_scale * w[1:] / w[1:].sum()\n",
    "\n",
    "    ax.plot(xx, yy, color='black')\n",
    "    ax.arrow(x_arr, y_arr, w_scaled[0], w_scaled[1], head_width=arrow_scale/3, color='black')\n"
   ]
  },
  {
   "cell_type": "code",
   "execution_count": 92,
   "metadata": {},
   "outputs": [],
   "source": [
    "def phi(X):\n",
    "    if X.ndim == 1:\n",
    "        return np.array([1, X[0], X[1]])\n",
    "    return np.concatenate([np.ones((X.shape[0],1)), X], axis=1)\n",
    "\n",
    "def activation(z):\n",
    "    \"\"\"Step activation function.\"\"\"\n",
    "    return 2 * (z >= 0).astype(int) - 1\n",
    "\n",
    "def perceptron_error(X, t_true, w):\n",
    "    # forward prediction\n",
    "    t_pred = activation(phi(X) @ w)\n",
    "    c_pred = decision(t_pred)\n",
    "\n",
    "    # get misclassified inputs\n",
    "    c_true = decision(t_true)\n",
    "    misclass_idx = np.argwhere(c_pred != c_true).flatten()\n",
    "\n",
    "    err = 0.0\n",
    "    for midx in misclass_idx:\n",
    "        err -= w @ phi(X[midx,:]) * t_true[midx]\n",
    "    return err\n",
    "\n",
    "\n",
    "def sgd_step(X, t_n, w):\n",
    "    # forward prediction\n",
    "    t_pred = activation(phi(X) @ w)\n",
    "    c_pred = decision(t_pred)\n",
    "\n",
    "    # get misclassified inputs\n",
    "    c_true = decision(t_n)\n",
    "    misclass_idx = np.argwhere(c_pred != c_true).flatten()\n",
    "\n",
    "    for midx in misclass_idx:\n",
    "        w += phi(X[midx,:]) * t_n[midx]\n",
    "    return w"
   ]
  },
  {
   "cell_type": "code",
   "execution_count": 93,
   "metadata": {},
   "outputs": [
    {
     "data": {
      "image/png": "[encoded data removed]",
      "text/plain": [
       "<Figure size 432x288 with 1 Axes>"
      ]
     },
     "metadata": {
      "needs_background": "light"
     },
     "output_type": "display_data"
    }
   ],
   "source": [
    "w_gen = np.array([[2.0, 0.5], [2.0, 3.5]])\n",
    "X, t_n, c_n = generate_data(w_gen, 40)\n",
    "\n",
    "fig, ax = plt.subplots()\n",
    "ax.set(aspect='equal', xlim=[-6,6], ylim=[-6,6])\n",
    "w_init = np.array([1.0, 1.0, 1.0])\n",
    "\n",
    "\n",
    "plot_data(X, c_n, ax)\n",
    "plot_decision_boundary(w_init, ax, 1.0)"
   ]
  },
  {
   "cell_type": "code",
   "execution_count": 94,
   "metadata": {},
   "outputs": [
    {
     "data": {
      "image/png": "[encoded data removed]",
      "text/plain": [
       "<Figure size 432x288 with 1 Axes>"
      ]
     },
     "metadata": {
      "needs_background": "light"
     },
     "output_type": "display_data"
    }
   ],
   "source": [
    "w_init = np.array([1.0, 4.0, 1.0])\n",
    "w_step = w_init.copy()\n",
    "\n",
    "n_epochs = 7_000\n",
    "losses = np.zeros(n_epochs)\n",
    "for n_e in range(n_epochs):\n",
    "    w_step = sgd_step(X, t_n, w_step)\n",
    "    losses[n_e] = perceptron_error(X, t_n, w_step)\n",
    "\n",
    "fig, ax = plt.subplots()\n",
    "ax.set(xlim=[-5,5], ylim=[-5,5], aspect='equal')\n",
    "plot_decision_boundary(w_init, ax, arrow_scale=1)\n",
    "plot_decision_boundary(w_step, ax, arrow_scale=1)\n",
    "plot_data(X, c_n, ax)\n",
    "plt.show()\n",
    "\n"
   ]
  },
  {
   "cell_type": "code",
   "execution_count": 95,
   "metadata": {},
   "outputs": [
    {
     "data": {
      "text/plain": [
       "16.278772884199864"
      ]
     },
     "execution_count": 95,
     "metadata": {},
     "output_type": "execute_result"
    }
   ],
   "source": [
    "perceptron_error(X, t_n, w_step)"
   ]
  },
  {
   "cell_type": "code",
   "execution_count": null,
   "metadata": {},
   "outputs": [],
   "source": []
  }
 ],
 "metadata": {
  "kernelspec": {
   "display_name": "Python 3.8.12 ('.venv': venv)",
   "language": "python",
   "name": "python3"
  },
  "language_info": {
   "codemirror_mode": {
    "name": "ipython",
    "version": 3
   },
   "file_extension": ".py",
   "mimetype": "text/x-python",
   "name": "python",
   "nbconvert_exporter": "python",
   "pygments_lexer": "ipython3",
   "version": "3.8.12"
  },
  "orig_nbformat": 4,
  "vscode": {
   "interpreter": {
    "hash": "b5ac7c6156dd1d106c0eb61ce42a0bdd7cc19128b6e13749ed889b170c5c7a7c"
   }
  }
 },
 "nbformat": 4,
 "nbformat_minor": 2
}
