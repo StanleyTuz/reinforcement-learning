{
 "cells": [
  {
   "cell_type": "code",
   "execution_count": 1,
   "metadata": {},
   "outputs": [],
   "source": [
    "import numpy as np\n",
    "import matplotlib.pyplot as plt"
   ]
  },
  {
   "cell_type": "markdown",
   "metadata": {},
   "source": [
    "## 3.5 Policies and Value Functions\n",
    "\n",
    "I will implement Example 3.5: Gridworld in which the authors design a grid environment on which an agent moves and receives rewards. The state space is a set of 25 tiles, and the action space is a movement up, down, left, or right. In this example we fix the agent's policy to the equiprobable random policy $\\pi$ and we wish to compute the state-value function for this policy.\n",
    "\n",
    "The state-value function can be computed exactly in this case by solving the Bellman equation as a system of linear equations, since this is a finite MDP problem."
   ]
  },
  {
   "cell_type": "markdown",
   "metadata": {},
   "source": []
  },
  {
   "cell_type": "code",
   "execution_count": null,
   "metadata": {},
   "outputs": [],
   "source": [
    "def construct_gridworld_dynamics():\n",
    "    \"\"\"This function constructs a list-of-tuples representation for the environment dynamics.\n",
    "    We could also have considered a pd.DataFrame version which would have clarity through\n",
    "    column names. Or perhaps a list-of-namedtuples. (TRY THIS)\n",
    "\n",
    "    Returns (s, a, s', r, p)\n",
    "\n",
    "    This returns the list of p(s', r | s, a).\n",
    "    \"\"\"\n",
    "    dynamics = []\n",
    "    # s, a, s', r, p\n",
    "\n",
    "    # Move up\n",
    "    up = 0\n",
    "    for s in range(0, 5): # top row\n",
    "        dynamics.append((s, up, s, -1, 1.0))\n",
    "    for s in range(5, 25): # all rows except top row\n",
    "        dynamics.append((s, up, s-5, 0, 1.0))\n",
    "\n",
    "    # Move down\n",
    "    down = 1\n",
    "    for s in range(20, 25): # bottom row\n",
    "        dynamics.append((s, down, s, -1, 1.0))\n",
    "    for s in range(0, 20): # all rows except bottom row\n",
    "        dynamics.append((s, down, s+5, 0, 1.0))\n",
    "\n",
    "    # Move left\n",
    "    left = 2\n",
    "    for s in range(0, 25): # all squares\n",
    "        if s % 5 == 0: # left column\n",
    "            dynamics.append((s, left, s, -1, 1.0))\n",
    "        else:\n",
    "            dynamics.append((s, left, s-1, 0, 1.0))\n",
    "\n",
    "    # Move right\n",
    "    right = 3\n",
    "    for s in range(0, 25): # all squares\n",
    "        if (s+1) % 5 == 0: # right column\n",
    "            dynamics.append((s, right, s, -1, 1.0))\n",
    "        else:\n",
    "            dynamics.append((s, right,s+1, 0, 1.0))\n",
    "\n",
    "\n",
    "    # Add in the arbitrary dynamics\n",
    "    for tup in dynamics:\n",
    "        if tup[0] == 1 or tup[0] == 3:\n",
    "            dynamics.remove(tup)\n",
    "\n",
    "    _ = [dynamics.append((1, a, 21, 10, 1.0)) for a in range(4)]\n",
    "    _ = [dynamics.append((3, a, 13, 5, 1.0)) for a in range(4)]\n",
    "\n",
    "    return dynamics"
   ]
  },
  {
   "cell_type": "code",
   "execution_count": 131,
   "metadata": {},
   "outputs": [],
   "source": [
    "def construct_er_policy():\n",
    "    \"\"\"Constructs a list-of-tuples representation of the equiprobable random policy.\n",
    "    \n",
    "    (s, a, p)\n",
    "    \"\"\"\n",
    "    return [(s, a, 1/4) for a in range(4) for s in range(25)]\n",
    "\n",
    "class Agent():\n",
    "    def __init__(self, gamma: float = 1.0):\n",
    "        self.pi_ = construct_er_policy()\n",
    "        self.gamma = gamma\n",
    "        self.total_return = 0.0\n",
    "\n",
    "    def reset(self):\n",
    "        self.total_return = 0.0\n",
    "\n",
    "    def select_action(self, obs):\n",
    "        \"\"\"obs = observed state\"\"\"\n",
    "        # Get possible actions to take from this state\n",
    "        actions_ = [x for x in self.pi_ if x[0] == obs]\n",
    "        probs = [x[-1] for x in actions_]\n",
    "        act_idx = np.random.choice(range(len(probs)), p=probs)\n",
    "        return actions_[act_idx][1]"
   ]
  },
  {
   "cell_type": "code",
   "execution_count": 139,
   "metadata": {},
   "outputs": [],
   "source": [
    "from abc import ABC\n",
    "from typing import Any, Tuple\n",
    "\n",
    "class Env(ABC):\n",
    "    pass\n",
    "\n",
    "class State():\n",
    "    pass\n",
    "\n",
    "class Gridworld(Env):\n",
    "    \n",
    "    def __init__(self):\n",
    "        self.action_space = {0: \"Up\", 1: \"Down\", 2: \"Left\", 3: \"Right\"}\n",
    "        self.state = np.random.randint(0, 25)\n",
    "        self.dynamics = construct_gridworld_dynamics()\n",
    "\n",
    "    def step(self, action: int) -> Tuple[State, float, bool, Any]:\n",
    "        \"\"\"Take an action and run the dynamics of the MDP.\n",
    "        \n",
    "        Returns:\n",
    "            State: Resultant state of the environment after taking the action. (\"Observation\")\n",
    "            float: Reward obtained by taking the action.\n",
    "            bool: Indicates termination of the episode.\n",
    "            Any: Additional information.\n",
    "        \"\"\"\n",
    "        # See what possible result states and rewards can result from performing this action\n",
    "        # in the current state\n",
    "        state = self.state\n",
    "        futures_ = [x for x in self.dynamics if x[0] == state and x[1] == action]\n",
    "        # print(futures_)\n",
    "\n",
    "        # Randomly select from these\n",
    "        probs = [x[-1] for x in futures_]\n",
    "        future_idx = np.random.choice(range(len(probs)), p=probs)\n",
    "        result = futures_[future_idx]\n",
    "\n",
    "        # Update the state\n",
    "        self.state = result[2]\n",
    "        # Return results\n",
    "        return (self.state, result[3], False, None)\n",
    "\n",
    "    def state_to_coord(self):\n",
    "        y_coord = 5 - ( self.state // 5) - 1\n",
    "        x_coord = self.state % 5\n",
    "        return x_coord, y_coord"
   ]
  },
  {
   "cell_type": "markdown",
   "metadata": {},
   "source": [
    "Since we will generally need to compute expectation values, I need to store the problem dynamics as probability distributions somehow. Recall that the dynamics is the function $$ p\\left(s', r \\middle| s, a\\right): \\mathcal{S}\\times \\mathcal{R} \\times \\mathcal{S} \\times \\mathcal{A} \\rightarrow \\left[0,1\\right] $$ subject to the obvious normalization conditions. This will generally be a 4-dimensional array.\n",
    "\n",
    "For this particular problem, we have $\\left|\\mathcal{S}\\right| = 25$, $\\left|\\mathcal{A}\\right| = 4$, and $\\left|\\mathcal{R}\\right| = 5$, so $p$ will be an array with $25^2 \\times 4 \\times 4 = 10,000$ entries."
   ]
  },
  {
   "cell_type": "markdown",
   "metadata": {},
   "source": [
    "Instead I implemented it as a list of tuples."
   ]
  },
  {
   "cell_type": "code",
   "execution_count": 140,
   "metadata": {},
   "outputs": [
    {
     "name": "stdout",
     "output_type": "stream",
     "text": [
      "env.state = 10\n",
      "Taking step down...\n",
      " Got reward  0\n",
      "env.state = 15\n",
      "Taking step down...\n",
      " Got reward  0\n",
      "env.state = 20\n",
      "Taking step down...\n",
      " Got reward -1\n",
      "env.state = 20\n",
      "Taking step down...\n",
      " Got reward -1\n"
     ]
    }
   ],
   "source": [
    "env = Gridworld()\n",
    "for _ in range(4):\n",
    "    print(f\"env.state = {env.state}\")\n",
    "    print(\"Taking step down...\")\n",
    "    res = env.step(1)\n",
    "    print(f\" Got reward {res[1]:2}\")"
   ]
  },
  {
   "cell_type": "code",
   "execution_count": 141,
   "metadata": {},
   "outputs": [
    {
     "data": {
      "image/png": "[encoded data removed]",
      "text/plain": [
       "<Figure size 432x288 with 1 Axes>"
      ]
     },
     "metadata": {
      "needs_background": "light"
     },
     "output_type": "display_data"
    }
   ],
   "source": [
    "fig, ax = plt.subplots()\n",
    "\n",
    "ax.set(xlim=[-0.5,4.5], ylim=[-0.5,4.5])\n",
    "ax.set_xticks(np.arange(-0.5, 4.5, 1))\n",
    "ax.set_yticks(np.arange(-0.5, 4.5, 1))\n",
    "ax.xaxis.set_ticklabels([])\n",
    "ax.yaxis.set_ticklabels([])\n",
    "ax.grid()\n",
    "\n",
    "env = Gridworld()\n",
    "env.state = 14\n",
    "x_, y_ = env.state_to_coord()\n",
    "ax.scatter(x_,y_, marker='o', s=100, color='r')\n",
    "plt.show()\n"
   ]
  },
  {
   "cell_type": "markdown",
   "metadata": {},
   "source": [
    "I want to solve the Bellman equation --- a system of linear equations --- to find the value function for this equiprobable random policy, $\\pi$. There are $\\left|\\mathcal{S}\\right|=25$ states, and each state has a corresponding equation, so this is a system of 25 equations in 25 unknowns."
   ]
  },
  {
   "cell_type": "code",
   "execution_count": 145,
   "metadata": {},
   "outputs": [],
   "source": [
    "pi_ = construct_er_policy() # s, a, p\n",
    "dynamics = construct_gridworld_dynamics() # s, a, s', r, p\n",
    "\n",
    "A = np.zeros((25, 25))\n",
    "b = np.zeros((25, 1))\n",
    "\n",
    "states = range(25)\n",
    "actions = range(4)\n",
    "rewards = [-1, 0, 10, 5]\n",
    "for s in states:\n",
    "    # Create the constant term\n",
    "    constant_term = 0.0\n",
    "    # Get probs for actions we can take in this state\n",
    "    pol_s = [x for x in pi_ if x[0] == s]\n",
    "    \n",
    "    # policy has the actions with nonzero probability, so we can sum over this\n",
    "    for _, a, p_a in pol_s:\n",
    "        dyn_sa = [x for x in dynamics if x[0] == s and x[1] == a]\n",
    "        for _, _, sp, r, p_spr in dyn_sa:\n",
    "            constant_term += p_a * p_spr * r\n",
    "\n",
    "    b[s] = -constant_term\n"
   ]
  },
  {
   "cell_type": "code",
   "execution_count": 146,
   "metadata": {},
   "outputs": [
    {
     "data": {
      "text/plain": [
       "array([[  0.5 ],\n",
       "       [-10.  ],\n",
       "       [  0.25],\n",
       "       [ -5.  ],\n",
       "       [  0.5 ],\n",
       "       [  0.25],\n",
       "       [ -0.  ],\n",
       "       [ -0.  ],\n",
       "       [ -0.  ],\n",
       "       [  0.25],\n",
       "       [  0.25],\n",
       "       [ -0.  ],\n",
       "       [ -0.  ],\n",
       "       [ -0.  ],\n",
       "       [  0.25],\n",
       "       [  0.25],\n",
       "       [ -0.  ],\n",
       "       [ -0.  ],\n",
       "       [ -0.  ],\n",
       "       [  0.25],\n",
       "       [  0.5 ],\n",
       "       [  0.25],\n",
       "       [  0.25],\n",
       "       [  0.25],\n",
       "       [  0.5 ]])"
      ]
     },
     "execution_count": 146,
     "metadata": {},
     "output_type": "execute_result"
    }
   ],
   "source": [
    "b"
   ]
  },
  {
   "cell_type": "code",
   "execution_count": 148,
   "metadata": {},
   "outputs": [
    {
     "data": {
      "text/plain": [
       "[(24, 3, 0.25)]"
      ]
     },
     "execution_count": 148,
     "metadata": {},
     "output_type": "execute_result"
    }
   ],
   "source": [
    "[x for x in pi_ if x[0:2] == (s, a)]"
   ]
  },
  {
   "cell_type": "code",
   "execution_count": 164,
   "metadata": {},
   "outputs": [],
   "source": [
    "states = range(25)\n",
    "actions = range(4)\n",
    "rewards = [-1, 0, 10, 5]\n",
    "S = np.zeros((25, 25))\n",
    "gamma = 0.9\n",
    "\n",
    "for s in states:\n",
    "    for sp in states:\n",
    "        accum = 0.0\n",
    "        for a in actions: # sum_a\n",
    "            # get prob of taking this action in this state\n",
    "            _,_, p_a_s = [x for x in pi_ if x[0:2] == (s, a)][0]\n",
    "            # Get possible resultant dynamics from taking this action in this state\n",
    "            # prob of reward, s' given s, a\n",
    "            # Note that the dynamics here are deterministic, so this is more trivial than I'm \n",
    "            # making it.\n",
    "            p_rsp_sa_list = [x for x in dynamics if x[0:3] == (s, a, sp)]\n",
    "\n",
    "            for res in p_rsp_sa_list: # sum_r\n",
    "                accum += p_a_s * res[4]\n",
    "        S[s, sp] = gamma * accum\n"
   ]
  },
  {
   "cell_type": "code",
   "execution_count": 173,
   "metadata": {},
   "outputs": [],
   "source": [
    "B = np.zeros((25, 1))\n",
    "for s in states:\n",
    "    accum = 0.0\n",
    "    for a in actions: # sum_a\n",
    "        _, _, p_sa = [ x for x in pi_ if x[0:2] == (s, a) ][0]\n",
    "        # print(p_sa)\n",
    "        for sp in states: # sum_sp\n",
    "            p_rsp_sa_list = [x for x in dynamics if x[0:3] == (s, a, sp)]\n",
    "            # print(p_rsp_sa_list)\n",
    "            for res in p_rsp_sa_list:\n",
    "                accum += res[3] * p_sa * res[4]\n",
    "    B[s] = accum\n",
    "\n"
   ]
  },
  {
   "cell_type": "code",
   "execution_count": 174,
   "metadata": {},
   "outputs": [],
   "source": [
    "A = np.eye(25) - S\n",
    "b = B"
   ]
  },
  {
   "cell_type": "code",
   "execution_count": 177,
   "metadata": {},
   "outputs": [],
   "source": [
    "v = np.linalg.inv(A) @ b"
   ]
  },
  {
   "cell_type": "code",
   "execution_count": 180,
   "metadata": {},
   "outputs": [],
   "source": [
    "v_square = v.reshape(5,5)"
   ]
  },
  {
   "cell_type": "code",
   "execution_count": 185,
   "metadata": {},
   "outputs": [
    {
     "data": {
      "image/png": "[encoded data removed]",
      "text/plain": [
       "<Figure size 432x288 with 1 Axes>"
      ]
     },
     "metadata": {
      "needs_background": "light"
     },
     "output_type": "display_data"
    }
   ],
   "source": [
    "fig, ax = plt.subplots()\n",
    "\n",
    "ax.set(xlim=[-0.5,4.5], ylim=[-0.5,4.5])\n",
    "ax.set_xticks(np.arange(-0.5, 4.5, 1))\n",
    "ax.set_yticks(np.arange(-0.5, 4.5, 1))\n",
    "ax.xaxis.set_ticklabels([])\n",
    "ax.yaxis.set_ticklabels([])\n",
    "ax.grid()\n",
    "\n",
    "def state_to_txt_coord(s: int):\n",
    "    y_coord = 5 - ( s // 5) - 1\n",
    "    x_coord = s % 5\n",
    "    return x_coord, y_coord\n",
    "\n",
    "for s in states:\n",
    "    x_t, y_t = state_to_txt_coord(s)\n",
    "    ax.text(x=x_t, y=y_t, s=f\"{v[s][0]:.1f}\")\n",
    "plt.show()\n"
   ]
  },
  {
   "cell_type": "code",
   "execution_count": null,
   "metadata": {},
   "outputs": [],
   "source": []
  }
 ],
 "metadata": {
  "kernelspec": {
   "display_name": "Python 3.8.12 ('.venv': venv)",
   "language": "python",
   "name": "python3"
  },
  "language_info": {
   "codemirror_mode": {
    "name": "ipython",
    "version": 3
   },
   "file_extension": ".py",
   "mimetype": "text/x-python",
   "name": "python",
   "nbconvert_exporter": "python",
   "pygments_lexer": "ipython3",
   "version": "3.8.12"
  },
  "orig_nbformat": 4,
  "vscode": {
   "interpreter": {
    "hash": "b5ac7c6156dd1d106c0eb61ce42a0bdd7cc19128b6e13749ed889b170c5c7a7c"
   }
  }
 },
 "nbformat": 4,
 "nbformat_minor": 2
}
