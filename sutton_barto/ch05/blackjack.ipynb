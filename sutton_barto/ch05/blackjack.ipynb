{
 "cells": [
  {
   "cell_type": "code",
   "execution_count": 17,
   "metadata": {},
   "outputs": [
    {
     "name": "stdout",
     "output_type": "stream",
     "text": [
      "Action.STICK\n",
      "printing message\n",
      "Game ends with a player victory!\n"
     ]
    },
    {
     "data": {
      "text/plain": [
       "1"
      ]
     },
     "execution_count": 17,
     "metadata": {},
     "output_type": "execute_result"
    }
   ],
   "source": [
    "import numpy as np\n",
    "import matplotlib.pyplot as plt\n",
    "import blackjack as bj\n",
    "dealer = bj.Dealer()\n",
    "agent = bj.RiskyAgent()\n",
    "\n",
    "dealer.reset_game()\n",
    "dealer.game_loop(agent)\n",
    "# g_obs = dealer.get_game_obs()"
   ]
  },
  {
   "cell_type": "code",
   "execution_count": 18,
   "metadata": {},
   "outputs": [
    {
     "name": "stdout",
     "output_type": "stream",
     "text": [
      "Player:  20\n",
      "Dealer:  23\n"
     ]
    }
   ],
   "source": [
    "print(\"Player: \", dealer.player_total)\n",
    "print(\"Dealer: \", dealer.dealer_total)"
   ]
  },
  {
   "cell_type": "code",
   "execution_count": 10,
   "metadata": {},
   "outputs": [
    {
     "data": {
      "text/plain": [
       "GameObs(dealer_visible=10, player_total=11, player_ace=0, player_reward=-1, game_over=True)"
      ]
     },
     "execution_count": 10,
     "metadata": {},
     "output_type": "execute_result"
    }
   ],
   "source": [
    "g_obs = dealer.get_game_obs()\n",
    "g_obs"
   ]
  },
  {
   "cell_type": "markdown",
   "metadata": {},
   "source": [
    "What is the \"state\" for blackjack? It's the entire set of cards held by both the dealer and the agent. The agent doesn't observe the entire state though: it only observes it's own hand and the single face-up card of the dealer."
   ]
  },
  {
   "cell_type": "markdown",
   "metadata": {},
   "source": [
    "The agent's observed state:\n",
    "$$ \\left( \\text{agent's total}, \\text{agent's usable ace}, \\text{dealer's showing card} \\right) $$"
   ]
  },
  {
   "cell_type": "code",
   "execution_count": null,
   "metadata": {},
   "outputs": [],
   "source": [
    "actions = {0: \"hit\", 1: \"stick\"}\n",
    "\n",
    "state = ()"
   ]
  },
  {
   "cell_type": "code",
   "execution_count": null,
   "metadata": {},
   "outputs": [],
   "source": []
  }
 ],
 "metadata": {
  "kernelspec": {
   "display_name": "Python 3.9.0 ('.venv': venv)",
   "language": "python",
   "name": "python3"
  },
  "language_info": {
   "codemirror_mode": {
    "name": "ipython",
    "version": 3
   },
   "file_extension": ".py",
   "mimetype": "text/x-python",
   "name": "python",
   "nbconvert_exporter": "python",
   "pygments_lexer": "ipython3",
   "version": "3.9.0"
  },
  "orig_nbformat": 4,
  "vscode": {
   "interpreter": {
    "hash": "c3cfd1fcd46e1a2e042b0722e1b402ebb6afdb86323bef83dcf803ebf5101eea"
   }
  }
 },
 "nbformat": 4,
 "nbformat_minor": 2
}
